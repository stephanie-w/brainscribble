{
 "cells": [
  {
   "cell_type": "markdown",
   "metadata": {},
   "source": [
    "A Maze is given as N*N binary matrix of blocks where source block is the upper left most block i.e., maze[0][0] and destination block is lower rightmost block i.e., maze[N-1][N-1]. A rat starts from source and has to reach destination. The rat can move only in two directions: forward and down.\n",
    "In the maze matrix, 0 means the block is dead end and 1 means the block can be used in the path from source to destination. Note that this is a simple version of the typical Maze problem. For example, a more complex version can be that the rat can move in 4 directions and a more complex version can be with limited number of moves.\n",
    "\n",
    "![](http://geeksforgeeks.org/wp-content/uploads/ratinmaze_filled_path1.png)\n",
    "\n",
    "The binary representation of the maze below is as follow:\n",
    "\n",
    "    [\n",
    "        [1, 0, 0, 0],\n",
    "        [1, 1, 0, 1],\n",
    "        [0, 1, 0, 0],\n",
    "        [1, 1, 1, 1]\n",
    "    ]\n",
    "\n",
    "The solution matrix (output of program) for the above input matrix is as follow:\n",
    "\n",
    "    [\n",
    "        [1, 0, 0, 0],\n",
    "        [1, 1, 0, 0],\n",
    "        [0, 1, 0, 0],\n",
    "        [0, 1, 1, 1]\n",
    "    ]"
   ]
  },
  {
   "cell_type": "markdown",
   "metadata": {},
   "source": [
    "Algotithm :\n",
    "\n",
    "    If destination is reached\n",
    "        print the solution matrix\n",
    "    Else\n",
    "       a. Mark current cell in the solution matrix\n",
    "       b. Move forward horizontaly and recursively check if this leads to a solution\n",
    "       c. If there is no solution, move down and recursively check if this leads to a solution\n",
    "       d. If none of the above solution work, unmark the cell and return False"
   ]
  },
  {
   "cell_type": "code",
   "execution_count": 38,
   "metadata": {
    "collapsed": false
   },
   "outputs": [
    {
     "name": "stdout",
     "output_type": "stream",
     "text": [
      "[[1, 0, 0, 0], [1, 1, 0, 0], [0, 1, 0, 0], [0, 1, 1, 1]]\n"
     ]
    }
   ],
   "source": [
    "# Utility to check if the current cell position (x,y)\n",
    "# is in the maze\n",
    "def isSafe(maze, x, y, sol):\n",
    "    # Get maze dimensions\n",
    "    X = len(maze[1])\n",
    "    Y = len(maze)\n",
    "    \n",
    "    if x>=0 and x<X and y>=0 and y<Y and maze[x][y]==1:    \n",
    "        return True\n",
    "    return False\n",
    "\n",
    "# (x,y) is the current cell position\n",
    "def solveMaze(maze, x, y, sol):\n",
    "\n",
    "    # Get maze size\n",
    "    X = len(maze[1])\n",
    "    Y = len(maze)\n",
    "    \n",
    "    # check if (x,y) is goal\n",
    "    if x == X-1 and y == Y-1 : \n",
    "        sol[x][y] = 1\n",
    "        return True\n",
    "\n",
    "    # Check if we're inside the maze\n",
    "    if isSafe(maze, x, y, sol):\n",
    "        # Mark the current cell in solution (BACKTRACK)\n",
    "        sol[x][y] = 1\n",
    "        # Move right\n",
    "        if solveMaze(maze, x+1, y, sol):\n",
    "            return True\n",
    "        # Move down\n",
    "        if solveMaze(maze, x, y+1, sol):\n",
    "            return True\n",
    "        # Remove current cell from solution\n",
    "        # If the 2 moves above failed\n",
    "        sol[x][y] = 0\n",
    "        return False\n",
    "    \n",
    "maze = [\n",
    "    [1, 0, 0, 0],\n",
    "    [1, 1, 0, 1],\n",
    "    [0, 1, 0, 0],\n",
    "    [1, 1, 1, 1,]\n",
    "]\n",
    "# Initiate the solution matrix\n",
    "sol = [\n",
    "    [0, 0, 0, 0],\n",
    "    [0, 0, 0, 0],\n",
    "    [0, 0, 0, 0],\n",
    "    [0, 0, 0, 0]\n",
    "]\n",
    "\n",
    "# Given a maze NxM,\n",
    "# we start at (0, 0), goal is (N-1, M-1)\n",
    "if solveMaze(maze, 0, 0, sol):\n",
    "    print sol\n",
    "else:\n",
    "    print \"No solution\""
   ]
  }
 ],
 "metadata": {
  "kernelspec": {
   "display_name": "Python 2",
   "language": "python",
   "name": "python2"
  },
  "language_info": {
   "codemirror_mode": {
    "name": "ipython",
    "version": 2
   },
   "file_extension": ".py",
   "mimetype": "text/x-python",
   "name": "python",
   "nbconvert_exporter": "python",
   "pygments_lexer": "ipython2",
   "version": "2.7.10"
  }
 },
 "nbformat": 4,
 "nbformat_minor": 0
}
