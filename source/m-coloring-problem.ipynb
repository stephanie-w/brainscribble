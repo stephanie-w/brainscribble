{
 "cells": [
  {
   "cell_type": "markdown",
   "metadata": {},
   "source": [
    "Given an undirected graph and a number m, determine if the graph can be colored with at most m colors such that no two adjacent vertices of the graph are colored with same color. Here coloring of a graph means assignment of colors to all vertices.\n",
    "\n",
    "1) A 2D array graph[V][V] where V is the number of vertices in graph and graph[V][V] is adjacency matrix representation of the graph. A value graph[i][j] is 1 if there is a direct edge from i to j, otherwise graph[i][j] is 0.\n",
    "2) An integer m which is maximum number of colors that can be used.\n",
    "\n",
    "Output:\n",
    "An array color[V] that should have numbers from 1 to m. color[i] should represent the color assigned to the ith vertex. The code should also return false if the graph cannot be colored with m colors."
   ]
  },
  {
   "cell_type": "markdown",
   "metadata": {},
   "source": [
    "![](http://d2dskowxfbo68o.cloudfront.net/wp-content/uploads/graph_col.png)"
   ]
  },
  {
   "cell_type": "markdown",
   "metadata": {},
   "source": [
    "Algorithm:\n",
    "\n",
    "    If all colors are assigned,\n",
    "        print vertex assigned colors\n",
    "    Else\n",
    "        a. Trying all possible colors, assign a color to the vertex\n",
    "        b. If color assignment is possible, recursivelty assign colors to next vertices\n",
    "        c. If color assignment is not possible, de-assign color, return False"
   ]
  },
  {
   "cell_type": "code",
   "execution_count": 67,
   "metadata": {
    "collapsed": true
   },
   "outputs": [],
   "source": [
    "def is_safe(n, graph, colors, c):\n",
    "    # Iterate trough adjacent vertices\n",
    "    # and check if the vertex color is different from c\n",
    "    for i in range(n):\n",
    "        if graph[n][i] and c == colors[i]: return False\n",
    "    return True\n",
    "\n",
    "# n = vertex nb\n",
    "def graphColoringUtil(graph, color_nb, colors, n):\n",
    "    # Check if all vertices are assigned a color\n",
    "    if color_nb+1 == n :\n",
    "        return True\n",
    "    \n",
    "    # Trying differents color for the vertex n\n",
    "    for c in range(1, color_nb+1):\n",
    "        # Check if assignment of color c to n is possible\n",
    "        if is_safe(n, graph, colors, c):\n",
    "            # Assign color c to n\n",
    "            colors[n] = c\n",
    "            # Recursively assign colors to the rest of the vertices\n",
    "            if graphColoringUtil(graph, color_nb, colors, n+1): return True\n",
    "            # If there is no solution, remove color (BACKTRACK)\n",
    "            colors[n] = 0"
   ]
  },
  {
   "cell_type": "markdown",
   "metadata": {},
   "source": [
    "We test the algorithm for the following graph and test whether it is 3 colorable:\n",
    "\n",
    "       (3)---(2)\n",
    "        |   / |\n",
    "        |  /  |\n",
    "        | /   |\n",
    "       (0)---(1)"
   ]
  },
  {
   "cell_type": "code",
   "execution_count": 68,
   "metadata": {
    "collapsed": false
   },
   "outputs": [
    {
     "name": "stdout",
     "output_type": "stream",
     "text": [
      "[1, 2, 3, 2]\n"
     ]
    }
   ],
   "source": [
    "#nb of vertex\n",
    "vertex_nb = 4\n",
    "# nb of colors\n",
    "color_nb = 3\n",
    "# Initiate vertex colors\n",
    "colors = [0] * vertex_nb\n",
    "\n",
    "graph = [\n",
    "    [0, 1, 1, 1],\n",
    "    [1, 0, 1, 0],\n",
    "    [1, 1, 0, 1],\n",
    "    [1, 0, 1, 0],\n",
    "]\n",
    "\n",
    "#beginning with vertex 0\n",
    "if graphColoringUtil(graph, color_nb, colors, 0):\n",
    "    print colors\n",
    "else:\n",
    "    print \"No solutions\""
   ]
  }
 ],
 "metadata": {
  "kernelspec": {
   "display_name": "Python 2",
   "language": "python",
   "name": "python2"
  },
  "language_info": {
   "codemirror_mode": {
    "name": "ipython",
    "version": 2
   },
   "file_extension": ".py",
   "mimetype": "text/x-python",
   "name": "python",
   "nbconvert_exporter": "python",
   "pygments_lexer": "ipython2",
   "version": "2.7.10"
  }
 },
 "nbformat": 4,
 "nbformat_minor": 0
}
